{
 "cells": [
  {
   "cell_type": "markdown",
   "metadata": {},
   "source": [
    "### Universidad del Valle de Guatemala\n",
    "### Master in Applied Data Science\n",
    "### Text Mining & Natural Language Processing\n",
    "### César Guerra, carnet: 12593"
   ]
  },
  {
   "cell_type": "code",
   "execution_count": 1,
   "metadata": {},
   "outputs": [
    {
     "name": "stderr",
     "output_type": "stream",
     "text": [
      "[nltk_data] Downloading package wordnet to /Users/cesar/nltk_data...\n",
      "[nltk_data]   Package wordnet is already up-to-date!\n"
     ]
    },
    {
     "data": {
      "text/html": [
       "<div>\n",
       "<style scoped>\n",
       "    .dataframe tbody tr th:only-of-type {\n",
       "        vertical-align: middle;\n",
       "    }\n",
       "\n",
       "    .dataframe tbody tr th {\n",
       "        vertical-align: top;\n",
       "    }\n",
       "\n",
       "    .dataframe thead th {\n",
       "        text-align: right;\n",
       "    }\n",
       "</style>\n",
       "<table border=\"1\" class=\"dataframe\">\n",
       "  <thead>\n",
       "    <tr style=\"text-align: right;\">\n",
       "      <th></th>\n",
       "      <th>rating</th>\n",
       "      <th>review</th>\n",
       "    </tr>\n",
       "  </thead>\n",
       "  <tbody>\n",
       "    <tr>\n",
       "      <th>0</th>\n",
       "      <td>50</td>\n",
       "      <td>What an experience. The hotel is centrally loc...</td>\n",
       "    </tr>\n",
       "    <tr>\n",
       "      <th>1</th>\n",
       "      <td>50</td>\n",
       "      <td>This hotel takes you back in time the best way...</td>\n",
       "    </tr>\n",
       "    <tr>\n",
       "      <th>2</th>\n",
       "      <td>50</td>\n",
       "      <td>Fantastic hotel in the heart of Antigua! The l...</td>\n",
       "    </tr>\n",
       "    <tr>\n",
       "      <th>3</th>\n",
       "      <td>50</td>\n",
       "      <td>We had a dinner at this restaurant and had a g...</td>\n",
       "    </tr>\n",
       "    <tr>\n",
       "      <th>4</th>\n",
       "      <td>50</td>\n",
       "      <td>Loved every moment at this gorgeous hotel from...</td>\n",
       "    </tr>\n",
       "  </tbody>\n",
       "</table>\n",
       "</div>"
      ],
      "text/plain": [
       "   rating                                             review\n",
       "0      50  What an experience. The hotel is centrally loc...\n",
       "1      50  This hotel takes you back in time the best way...\n",
       "2      50  Fantastic hotel in the heart of Antigua! The l...\n",
       "3      50  We had a dinner at this restaurant and had a g...\n",
       "4      50  Loved every moment at this gorgeous hotel from..."
      ]
     },
     "execution_count": 1,
     "metadata": {},
     "output_type": "execute_result"
    }
   ],
   "source": [
    "#Importando librerias necesarias para realizar analisis exploratorio\n",
    "import pandas as pd\n",
    "import matplotlib.pyplot as plt\n",
    "%matplotlib inline\n",
    "import nltk\n",
    "nltk.download('wordnet')\n",
    "from nltk.stem import WordNetLemmatizer, PorterStemmer\n",
    "from collections import Counter\n",
    "import re\n",
    "\n",
    "#Cargando los datos y validando su carga\n",
    "df_ta = pd.read_csv('../data/raw/results.csv')\n",
    "df_ta.head()"
   ]
  },
  {
   "cell_type": "code",
   "execution_count": 2,
   "metadata": {
    "scrolled": false
   },
   "outputs": [
    {
     "name": "stdout",
     "output_type": "stream",
     "text": [
      "<class 'pandas.core.frame.DataFrame'>\n",
      "RangeIndex: 19269 entries, 0 to 19268\n",
      "Data columns (total 2 columns):\n",
      " #   Column  Non-Null Count  Dtype \n",
      "---  ------  --------------  ----- \n",
      " 0   rating  19269 non-null  int64 \n",
      " 1   review  19269 non-null  object\n",
      "dtypes: int64(1), object(1)\n",
      "memory usage: 301.2+ KB\n"
     ]
    }
   ],
   "source": [
    "#Validando el tipo de datos para cada columna\n",
    "df_ta.info()"
   ]
  },
  {
   "cell_type": "code",
   "execution_count": 3,
   "metadata": {},
   "outputs": [
    {
     "data": {
      "text/html": [
       "<div>\n",
       "<style scoped>\n",
       "    .dataframe tbody tr th:only-of-type {\n",
       "        vertical-align: middle;\n",
       "    }\n",
       "\n",
       "    .dataframe tbody tr th {\n",
       "        vertical-align: top;\n",
       "    }\n",
       "\n",
       "    .dataframe thead th {\n",
       "        text-align: right;\n",
       "    }\n",
       "</style>\n",
       "<table border=\"1\" class=\"dataframe\">\n",
       "  <thead>\n",
       "    <tr style=\"text-align: right;\">\n",
       "      <th></th>\n",
       "      <th>rating</th>\n",
       "      <th>review</th>\n",
       "      <th>nwords</th>\n",
       "    </tr>\n",
       "  </thead>\n",
       "  <tbody>\n",
       "    <tr>\n",
       "      <th>0</th>\n",
       "      <td>50</td>\n",
       "      <td>What an experience. The hotel is centrally loc...</td>\n",
       "      <td>55</td>\n",
       "    </tr>\n",
       "    <tr>\n",
       "      <th>1</th>\n",
       "      <td>50</td>\n",
       "      <td>This hotel takes you back in time the best way...</td>\n",
       "      <td>46</td>\n",
       "    </tr>\n",
       "    <tr>\n",
       "      <th>2</th>\n",
       "      <td>50</td>\n",
       "      <td>Fantastic hotel in the heart of Antigua! The l...</td>\n",
       "      <td>142</td>\n",
       "    </tr>\n",
       "    <tr>\n",
       "      <th>3</th>\n",
       "      <td>50</td>\n",
       "      <td>We had a dinner at this restaurant and had a g...</td>\n",
       "      <td>46</td>\n",
       "    </tr>\n",
       "    <tr>\n",
       "      <th>4</th>\n",
       "      <td>50</td>\n",
       "      <td>Loved every moment at this gorgeous hotel from...</td>\n",
       "      <td>40</td>\n",
       "    </tr>\n",
       "  </tbody>\n",
       "</table>\n",
       "</div>"
      ],
      "text/plain": [
       "   rating                                             review  nwords\n",
       "0      50  What an experience. The hotel is centrally loc...      55\n",
       "1      50  This hotel takes you back in time the best way...      46\n",
       "2      50  Fantastic hotel in the heart of Antigua! The l...     142\n",
       "3      50  We had a dinner at this restaurant and had a g...      46\n",
       "4      50  Loved every moment at this gorgeous hotel from...      40"
      ]
     },
     "execution_count": 3,
     "metadata": {},
     "output_type": "execute_result"
    }
   ],
   "source": [
    "#Creando columna que contiene la cantidad de palabras por review\n",
    "df_ta[\"nwords\"] = [len(re.split('\\W+',r)) for r in df_ta[\"review\"]]\n",
    "df_ta.head()"
   ]
  },
  {
   "cell_type": "code",
   "execution_count": 4,
   "metadata": {
    "scrolled": false
   },
   "outputs": [
    {
     "data": {
      "text/html": [
       "<div>\n",
       "<style scoped>\n",
       "    .dataframe tbody tr th:only-of-type {\n",
       "        vertical-align: middle;\n",
       "    }\n",
       "\n",
       "    .dataframe tbody tr th {\n",
       "        vertical-align: top;\n",
       "    }\n",
       "\n",
       "    .dataframe thead th {\n",
       "        text-align: right;\n",
       "    }\n",
       "</style>\n",
       "<table border=\"1\" class=\"dataframe\">\n",
       "  <thead>\n",
       "    <tr style=\"text-align: right;\">\n",
       "      <th></th>\n",
       "      <th>rating</th>\n",
       "      <th>review</th>\n",
       "      <th>nwords</th>\n",
       "      <th>nvocwords</th>\n",
       "    </tr>\n",
       "  </thead>\n",
       "  <tbody>\n",
       "    <tr>\n",
       "      <th>0</th>\n",
       "      <td>50</td>\n",
       "      <td>What an experience. The hotel is centrally loc...</td>\n",
       "      <td>55</td>\n",
       "      <td>42</td>\n",
       "    </tr>\n",
       "    <tr>\n",
       "      <th>1</th>\n",
       "      <td>50</td>\n",
       "      <td>This hotel takes you back in time the best way...</td>\n",
       "      <td>46</td>\n",
       "      <td>38</td>\n",
       "    </tr>\n",
       "    <tr>\n",
       "      <th>2</th>\n",
       "      <td>50</td>\n",
       "      <td>Fantastic hotel in the heart of Antigua! The l...</td>\n",
       "      <td>142</td>\n",
       "      <td>88</td>\n",
       "    </tr>\n",
       "    <tr>\n",
       "      <th>3</th>\n",
       "      <td>50</td>\n",
       "      <td>We had a dinner at this restaurant and had a g...</td>\n",
       "      <td>46</td>\n",
       "      <td>38</td>\n",
       "    </tr>\n",
       "    <tr>\n",
       "      <th>4</th>\n",
       "      <td>50</td>\n",
       "      <td>Loved every moment at this gorgeous hotel from...</td>\n",
       "      <td>40</td>\n",
       "      <td>35</td>\n",
       "    </tr>\n",
       "  </tbody>\n",
       "</table>\n",
       "</div>"
      ],
      "text/plain": [
       "   rating                                             review  nwords  \\\n",
       "0      50  What an experience. The hotel is centrally loc...      55   \n",
       "1      50  This hotel takes you back in time the best way...      46   \n",
       "2      50  Fantastic hotel in the heart of Antigua! The l...     142   \n",
       "3      50  We had a dinner at this restaurant and had a g...      46   \n",
       "4      50  Loved every moment at this gorgeous hotel from...      40   \n",
       "\n",
       "   nvocwords  \n",
       "0         42  \n",
       "1         38  \n",
       "2         88  \n",
       "3         38  \n",
       "4         35  "
      ]
     },
     "execution_count": 4,
     "metadata": {},
     "output_type": "execute_result"
    }
   ],
   "source": [
    "#Creando columna que contiene el tamaño del vocabulario de cada review utilizando palabras\n",
    "df_ta[\"nvocwords\"] = [len(Counter(\n",
    "    re.split('\\W+',r.lower())\n",
    ")) for r in df_ta[\"review\"]]\n",
    "df_ta.head()"
   ]
  },
  {
   "cell_type": "code",
   "execution_count": 5,
   "metadata": {
    "scrolled": false
   },
   "outputs": [
    {
     "data": {
      "text/html": [
       "<div>\n",
       "<style scoped>\n",
       "    .dataframe tbody tr th:only-of-type {\n",
       "        vertical-align: middle;\n",
       "    }\n",
       "\n",
       "    .dataframe tbody tr th {\n",
       "        vertical-align: top;\n",
       "    }\n",
       "\n",
       "    .dataframe thead th {\n",
       "        text-align: right;\n",
       "    }\n",
       "</style>\n",
       "<table border=\"1\" class=\"dataframe\">\n",
       "  <thead>\n",
       "    <tr style=\"text-align: right;\">\n",
       "      <th></th>\n",
       "      <th>rating</th>\n",
       "      <th>review</th>\n",
       "      <th>nwords</th>\n",
       "      <th>nvocwords</th>\n",
       "      <th>nvoclemm</th>\n",
       "    </tr>\n",
       "  </thead>\n",
       "  <tbody>\n",
       "    <tr>\n",
       "      <th>0</th>\n",
       "      <td>50</td>\n",
       "      <td>What an experience. The hotel is centrally loc...</td>\n",
       "      <td>55</td>\n",
       "      <td>42</td>\n",
       "      <td>42</td>\n",
       "    </tr>\n",
       "    <tr>\n",
       "      <th>1</th>\n",
       "      <td>50</td>\n",
       "      <td>This hotel takes you back in time the best way...</td>\n",
       "      <td>46</td>\n",
       "      <td>38</td>\n",
       "      <td>38</td>\n",
       "    </tr>\n",
       "    <tr>\n",
       "      <th>2</th>\n",
       "      <td>50</td>\n",
       "      <td>Fantastic hotel in the heart of Antigua! The l...</td>\n",
       "      <td>142</td>\n",
       "      <td>88</td>\n",
       "      <td>88</td>\n",
       "    </tr>\n",
       "    <tr>\n",
       "      <th>3</th>\n",
       "      <td>50</td>\n",
       "      <td>We had a dinner at this restaurant and had a g...</td>\n",
       "      <td>46</td>\n",
       "      <td>38</td>\n",
       "      <td>38</td>\n",
       "    </tr>\n",
       "    <tr>\n",
       "      <th>4</th>\n",
       "      <td>50</td>\n",
       "      <td>Loved every moment at this gorgeous hotel from...</td>\n",
       "      <td>40</td>\n",
       "      <td>35</td>\n",
       "      <td>35</td>\n",
       "    </tr>\n",
       "  </tbody>\n",
       "</table>\n",
       "</div>"
      ],
      "text/plain": [
       "   rating                                             review  nwords  \\\n",
       "0      50  What an experience. The hotel is centrally loc...      55   \n",
       "1      50  This hotel takes you back in time the best way...      46   \n",
       "2      50  Fantastic hotel in the heart of Antigua! The l...     142   \n",
       "3      50  We had a dinner at this restaurant and had a g...      46   \n",
       "4      50  Loved every moment at this gorgeous hotel from...      40   \n",
       "\n",
       "   nvocwords  nvoclemm  \n",
       "0         42        42  \n",
       "1         38        38  \n",
       "2         88        88  \n",
       "3         38        38  \n",
       "4         35        35  "
      ]
     },
     "execution_count": 5,
     "metadata": {},
     "output_type": "execute_result"
    }
   ],
   "source": [
    "#Creando columna que contiene el tamaño del vocabulario de cada review utilizando lemas\n",
    "wl = WordNetLemmatizer()\n",
    "df_ta[\"nvoclemm\"] = [len(Counter(\n",
    "    [wl.lemmatize(l) for l in re.split('\\W+',r.lower())]\n",
    ")) for r in df_ta[\"review\"]]\n",
    "df_ta.head()"
   ]
  },
  {
   "cell_type": "code",
   "execution_count": null,
   "metadata": {
    "scrolled": false
   },
   "outputs": [],
   "source": [
    "#Creando columna que contiene el tamaño del vocabulario de cada review utilizando temas\n",
    "ps = PorterStemmer()\n",
    "df_ta[\"nvocstem\"] = [len(Counter(\n",
    "    [ps.stem(t) for t in re.split('\\W+',r.lower())]\n",
    ")) for r in df_ta[\"review\"]]\n",
    "df_ta.head()"
   ]
  },
  {
   "cell_type": "code",
   "execution_count": null,
   "metadata": {
    "scrolled": true
   },
   "outputs": [],
   "source": [
    "#Resumen estadistico de las variables para todos los reviews\n",
    "df_ta.describe()"
   ]
  },
  {
   "cell_type": "code",
   "execution_count": null,
   "metadata": {},
   "outputs": [],
   "source": [
    "#Resumen estadistico de las variables para reviews con rating de 1 estrella\n",
    "df_ta[df_ta[\"rating\"] == 10].describe()"
   ]
  },
  {
   "cell_type": "code",
   "execution_count": null,
   "metadata": {},
   "outputs": [],
   "source": [
    "#Resumen estadistico de las variables para reviews con rating de 2 estrellas\n",
    "df_ta[df_ta[\"rating\"] == 20].describe()"
   ]
  },
  {
   "cell_type": "code",
   "execution_count": null,
   "metadata": {},
   "outputs": [],
   "source": [
    "#Resumen estadistico de las variables para reviews con rating de 3 estrellas\n",
    "df_ta[df_ta[\"rating\"] == 30].describe()"
   ]
  },
  {
   "cell_type": "code",
   "execution_count": null,
   "metadata": {},
   "outputs": [],
   "source": [
    "#Resumen estadistico de las variables para reviews con rating de 4 estrellas\n",
    "df_ta[df_ta[\"rating\"] == 40].describe()"
   ]
  },
  {
   "cell_type": "code",
   "execution_count": null,
   "metadata": {},
   "outputs": [],
   "source": [
    "#Resumen estadistico de las variables para reviews con rating de 5 estrellas\n",
    "df_ta[df_ta[\"rating\"] == 50].describe()"
   ]
  },
  {
   "cell_type": "code",
   "execution_count": null,
   "metadata": {
    "scrolled": false
   },
   "outputs": [],
   "source": [
    "#Grafico de barras de frecuencia por rating\n",
    "pd.crosstab(df_ta[\"rating\"], columns='cantidad',colnames=['b']).plot.bar(legend=None)\n",
    "plt.title(\"Frecuencia por ratings\")\n",
    "plt.ylabel(\"Frecuencia\")\n",
    "plt.show()"
   ]
  },
  {
   "cell_type": "code",
   "execution_count": null,
   "metadata": {},
   "outputs": [],
   "source": [
    "#Creando canvas para crear histogramas\n",
    "fig, axs = plt.subplots(2, 2,figsize=(20,10))\n",
    "\n",
    "#Histograma de cantidad de palabras por review\n",
    "axs[0, 0].set_xlabel(\"Cantidad de palabras por review\")\n",
    "axs[0, 0].set_ylabel(\"Frecuencia\")\n",
    "axs[0, 0].set_title(\"Histograma de cantidad de palabras por review\")\n",
    "axs[0, 0].hist(df_ta[\"nwords\"])\n",
    "\n",
    "#Histograma de tamaño de vocabulario de cada review utilizando palabras\n",
    "axs[0, 1].set_xlabel(\"Tamaño del vocabulario\")\n",
    "axs[0, 1].set_ylabel(\"Frecuencia\")\n",
    "axs[0, 1].set_title(\"Histograma del tamaño del vocabulario (usando palabras) por review\")\n",
    "axs[0, 1].hist(df_ta[\"nvocwords\"])\n",
    "\n",
    "#Histograma de tamaño de vocabulario de cada review utilizando lemas\n",
    "axs[1, 0].set_xlabel(\"Tamaño del vocabulario\")\n",
    "axs[1, 0].set_ylabel(\"Frecuencia\")\n",
    "axs[1, 0].set_title(\"Histograma del tamaño del vocabulario (usando lemas) por review\")\n",
    "axs[1, 0].hist(df_ta[\"nvoclemm\"])\n",
    "\n",
    "#Histograma de tamaño de vocabulario de cada review utilizando temas\n",
    "axs[1, 1].set_xlabel(\"Tamaño del vocabulario\")\n",
    "axs[1, 1].set_ylabel(\"Frecuencia\")\n",
    "axs[1, 1].set_title(\"Histograma del tamaño del vocabulario (usando temas) por review\")\n",
    "axs[1, 1].hist(df_ta[\"nvocstem\"])\n",
    "\n",
    "plt.tight_layout(pad=4.0)\n",
    "plt.show()"
   ]
  },
  {
   "cell_type": "code",
   "execution_count": null,
   "metadata": {},
   "outputs": [],
   "source": [
    "#Creando canvas para histogramas con datos que tienen rating 10\n",
    "fig, axs = plt.subplots(1, 3,figsize=(30,5))\n",
    "fig.suptitle('Reviews de 1 estrella', fontsize=16)\n",
    "\n",
    "#Histograma de tamaño de vocabulario de cada review utilizando palabras\n",
    "axs[0].set_xlabel(\"Tamaño de vocabulario\")\n",
    "axs[0].set_ylabel(\"Frecuencia\")\n",
    "axs[0].set_title(\"Histograma de tamaño del vocabulario (usando palabras)\")\n",
    "axs[0].hist(df_ta[\"nvocwords\"][df_ta[\"rating\"] == 10])\n",
    "\n",
    "#Histograma de tamaño de vocabulario de cada review utilizando lemas\n",
    "axs[1].set_xlabel(\"Tamaño de vocabulario\")\n",
    "axs[1].set_ylabel(\"Frecuencia\")\n",
    "axs[1].set_title(\"Histograma de tamaño del vocabulario (usando lemas)\")\n",
    "axs[1].hist(df_ta[\"nvoclemm\"][df_ta[\"rating\"] == 10])\n",
    "\n",
    "#Histograma de tamaño de vocabulario de cada review utilizando temas\n",
    "axs[2].set_xlabel(\"Tamaño de vocabulario\")\n",
    "axs[2].set_ylabel(\"Frecuencia\")\n",
    "axs[2].set_title(\"Histograma de tamaño del vocabulario (usando temas)\")\n",
    "axs[2].hist(df_ta[\"nvocstem\"][df_ta[\"rating\"] == 10])\n",
    "\n",
    "plt.tight_layout(pad=4.0)\n",
    "plt.show()"
   ]
  },
  {
   "cell_type": "code",
   "execution_count": null,
   "metadata": {},
   "outputs": [],
   "source": [
    "#Creando canvas para histogramas con datos que tienen rating 20\n",
    "fig, axs = plt.subplots(1, 3,figsize=(30,5))\n",
    "fig.suptitle('Reviews de 2 estrellas', fontsize=16)\n",
    "\n",
    "#Histograma de tamaño de vocabulario de cada review utilizando palabras\n",
    "axs[0].set_xlabel(\"Tamaño de vocabulario\")\n",
    "axs[0].set_ylabel(\"Frecuencia\")\n",
    "axs[0].set_title(\"Histograma de tamaño del vocabulario (usando palabras)\")\n",
    "axs[0].hist(df_ta[\"nvocwords\"][df_ta[\"rating\"] == 20])\n",
    "\n",
    "#Histograma de tamaño de vocabulario de cada review utilizando lemas\n",
    "axs[1].set_xlabel(\"Tamaño de vocabulario\")\n",
    "axs[1].set_ylabel(\"Frecuencia\")\n",
    "axs[1].set_title(\"Histograma de tamaño del vocabulario (usando lemas)\")\n",
    "axs[1].hist(df_ta[\"nvoclemm\"][df_ta[\"rating\"] == 20])\n",
    "\n",
    "#Histograma de tamaño de vocabulario de cada review utilizando temas\n",
    "axs[2].set_xlabel(\"Tamaño de vocabulario\")\n",
    "axs[2].set_ylabel(\"Frecuencia\")\n",
    "axs[2].set_title(\"Histograma de tamaño del vocabulario (usando temas)\")\n",
    "axs[2].hist(df_ta[\"nvocstem\"][df_ta[\"rating\"] == 20])\n",
    "\n",
    "plt.tight_layout(pad=4.0)\n",
    "plt.show()"
   ]
  },
  {
   "cell_type": "code",
   "execution_count": null,
   "metadata": {},
   "outputs": [],
   "source": [
    "#Creando canvas para histogramas con datos que tienen rating 30\n",
    "fig, axs = plt.subplots(1, 3,figsize=(30,5))\n",
    "fig.suptitle('Reviews de 3 estrellas', fontsize=16)\n",
    "\n",
    "#Histograma de tamaño de vocabulario de cada review utilizando palabras\n",
    "axs[0].set_xlabel(\"Tamaño de vocabulario\")\n",
    "axs[0].set_ylabel(\"Frecuencia\")\n",
    "axs[0].set_title(\"Histograma de tamaño del vocabulario (usando palabras)\")\n",
    "axs[0].hist(df_ta[\"nvocwords\"][df_ta[\"rating\"] == 30])\n",
    "\n",
    "#Histograma de tamaño de vocabulario de cada review utilizando lemas\n",
    "axs[1].set_xlabel(\"Tamaño de vocabulario\")\n",
    "axs[1].set_ylabel(\"Frecuencia\")\n",
    "axs[1].set_title(\"Histograma de tamaño del vocabulario (usando lemas)\")\n",
    "axs[1].hist(df_ta[\"nvoclemm\"][df_ta[\"rating\"] == 30])\n",
    "\n",
    "#Histograma de tamaño de vocabulario de cada review utilizando temas\n",
    "axs[2].set_xlabel(\"Tamaño de vocabulario\")\n",
    "axs[2].set_ylabel(\"Frecuencia\")\n",
    "axs[2].set_title(\"Histograma de tamaño del vocabulario (usando temas)\")\n",
    "axs[2].hist(df_ta[\"nvocstem\"][df_ta[\"rating\"] == 30])\n",
    "\n",
    "plt.tight_layout(pad=4.0)\n",
    "plt.show()"
   ]
  },
  {
   "cell_type": "code",
   "execution_count": null,
   "metadata": {},
   "outputs": [],
   "source": [
    "#Creando canvas para histogramas con datos que tienen rating 40\n",
    "fig, axs = plt.subplots(1, 3,figsize=(30,5))\n",
    "fig.suptitle('Reviews de 4 estrellas', fontsize=16)\n",
    "\n",
    "#Histograma de tamaño de vocabulario de cada review utilizando palabras\n",
    "axs[0].set_xlabel(\"Tamaño de vocabulario\")\n",
    "axs[0].set_ylabel(\"Frecuencia\")\n",
    "axs[0].set_title(\"Histograma de tamaño del vocabulario (usando palabras)\")\n",
    "axs[0].hist(df_ta[\"nvocwords\"][df_ta[\"rating\"] == 40])\n",
    "\n",
    "#Histograma de tamaño de vocabulario de cada review utilizando lemas\n",
    "axs[1].set_xlabel(\"Tamaño de vocabulario\")\n",
    "axs[1].set_ylabel(\"Frecuencia\")\n",
    "axs[1].set_title(\"Histograma de tamaño del vocabulario (usando lemas)\")\n",
    "axs[1].hist(df_ta[\"nvoclemm\"][df_ta[\"rating\"] == 40])\n",
    "\n",
    "#Histograma de tamaño de vocabulario de cada review utilizando temas\n",
    "axs[2].set_xlabel(\"Tamaño de vocabulario\")\n",
    "axs[2].set_ylabel(\"Frecuencia\")\n",
    "axs[2].set_title(\"Histograma de tamaño del vocabulario (usando temas)\")\n",
    "axs[2].hist(df_ta[\"nvocstem\"][df_ta[\"rating\"] == 40])\n",
    "\n",
    "plt.tight_layout(pad=4.0)\n",
    "plt.show()"
   ]
  },
  {
   "cell_type": "code",
   "execution_count": null,
   "metadata": {},
   "outputs": [],
   "source": [
    "#Creando canvas para histogramas con datos que tienen rating 50\n",
    "fig, axs = plt.subplots(1, 3,figsize=(30,5))\n",
    "fig.suptitle('Reviews de 5 estrellas', fontsize=16)\n",
    "\n",
    "#Histograma de tamaño de vocabulario de cada review utilizando palabras\n",
    "axs[0].set_xlabel(\"Tamaño de vocabulario\")\n",
    "axs[0].set_ylabel(\"Frecuencia\")\n",
    "axs[0].set_title(\"Histograma de tamaño del vocabulario (usando palabras)\")\n",
    "axs[0].hist(df_ta[\"nvocwords\"][df_ta[\"rating\"] == 50])\n",
    "\n",
    "#Histograma de tamaño de vocabulario de cada review utilizando lemas\n",
    "axs[1].set_xlabel(\"Tamaño de vocabulario\")\n",
    "axs[1].set_ylabel(\"Frecuencia\")\n",
    "axs[1].set_title(\"Histograma de tamaño del vocabulario (usando lemas)\")\n",
    "axs[1].hist(df_ta[\"nvoclemm\"][df_ta[\"rating\"] == 50])\n",
    "\n",
    "#Histograma de tamaño de vocabulario de cada review utilizando temas\n",
    "axs[2].set_xlabel(\"Tamaño de vocabulario\")\n",
    "axs[2].set_ylabel(\"Frecuencia\")\n",
    "axs[2].set_title(\"Histograma de tamaño del vocabulario (usando temas)\")\n",
    "axs[2].hist(df_ta[\"nvocstem\"][df_ta[\"rating\"] == 50])\n",
    "\n",
    "plt.tight_layout(pad=4.0)\n",
    "plt.show()"
   ]
  },
  {
   "cell_type": "code",
   "execution_count": null,
   "metadata": {},
   "outputs": [],
   "source": [
    "#Implementacion bag of words con palabras, lemas y temas para cada rating\n",
    "texto10 = ''.join(df_ta[\"review\"][df_ta[\"rating\"] == 10])\n",
    "texto20 = ''.join(df_ta[\"review\"][df_ta[\"rating\"] == 20])\n",
    "texto30 = ''.join(df_ta[\"review\"][df_ta[\"rating\"] == 30])\n",
    "texto40 = ''.join(df_ta[\"review\"][df_ta[\"rating\"] == 40])\n",
    "texto50 = ''.join(df_ta[\"review\"][df_ta[\"rating\"] == 50])\n",
    "\n",
    "#Palabras\n",
    "tokensWords10 = re.split('\\W+',texto10.lower())\n",
    "tokensWords20 = re.split('\\W+',texto20.lower())\n",
    "tokensWords30 = re.split('\\W+',texto30.lower())\n",
    "tokensWords40 = re.split('\\W+',texto40.lower())\n",
    "tokensWords50 = re.split('\\W+',texto50.lower())\n",
    "\n",
    "#Lemas\n",
    "tokensLemm10 = [ps.stem(t) for t in tokensWords10.copy()]\n",
    "tokensLemm20 = [ps.stem(t) for t in tokensWords20.copy()]\n",
    "tokensLemm30 = [ps.stem(t) for t in tokensWords30.copy()]\n",
    "tokensLemm40 = [ps.stem(t) for t in tokensWords40.copy()]\n",
    "tokensLemm50 = [ps.stem(t) for t in tokensWords50.copy()]\n",
    "\n",
    "#Temas\n",
    "tokensStem10 = [wl.lemmatize(l) for l in tokensWords10.copy()]\n",
    "tokensStem20 = [wl.lemmatize(l) for l in tokensWords20.copy()]\n",
    "tokensStem30 = [wl.lemmatize(l) for l in tokensWords30.copy()]\n",
    "tokensStem40 = [wl.lemmatize(l) for l in tokensWords40.copy()]\n",
    "tokensStem50 = [wl.lemmatize(l) for l in tokensWords50.copy()]"
   ]
  },
  {
   "cell_type": "code",
   "execution_count": null,
   "metadata": {},
   "outputs": [],
   "source": [
    "#Bag of words de palabras para rating de 1 estrella\n",
    "counterWords10 = Counter(tokensWords10)\n",
    "counterWords10.most_common()"
   ]
  },
  {
   "cell_type": "code",
   "execution_count": null,
   "metadata": {},
   "outputs": [],
   "source": [
    "#Bag of words de palabras para rating de 2 estrellas\n",
    "counterWords20 = Counter(tokensWords20)\n",
    "counterWords20.most_common()"
   ]
  },
  {
   "cell_type": "code",
   "execution_count": null,
   "metadata": {},
   "outputs": [],
   "source": [
    "#Bag of words de palabras para rating de 3 estrellas\n",
    "counterWords30 = Counter(tokensWords30)\n",
    "counterWords30.most_common()"
   ]
  },
  {
   "cell_type": "code",
   "execution_count": null,
   "metadata": {},
   "outputs": [],
   "source": [
    "#Bag of words de palabras para rating de 4 estrellas\n",
    "counterWords40 = Counter(tokensWords40)\n",
    "counterWords40.most_common()"
   ]
  },
  {
   "cell_type": "code",
   "execution_count": null,
   "metadata": {},
   "outputs": [],
   "source": [
    "#Bag of words de palabras para rating de 5 estrellas\n",
    "counterWords50 = Counter(tokensWords50)\n",
    "counterWords50.most_common()"
   ]
  },
  {
   "cell_type": "code",
   "execution_count": null,
   "metadata": {},
   "outputs": [],
   "source": [
    "#Bag of words de lemas para rating de 1 estrella\n",
    "counterLemm10 = Counter(tokensLemm10)\n",
    "counterLemm10.most_common()"
   ]
  },
  {
   "cell_type": "code",
   "execution_count": null,
   "metadata": {},
   "outputs": [],
   "source": [
    "#Bag of words de lemas para rating de 2 estrellas\n",
    "counterLemm20 = Counter(tokensLemm20)\n",
    "counterLemm20.most_common()"
   ]
  },
  {
   "cell_type": "code",
   "execution_count": null,
   "metadata": {},
   "outputs": [],
   "source": [
    "#Bag of words de lemas para rating de 3 estrellas\n",
    "counterLemm30 = Counter(tokensLemm30)\n",
    "counterLemm30.most_common()"
   ]
  },
  {
   "cell_type": "code",
   "execution_count": null,
   "metadata": {},
   "outputs": [],
   "source": [
    "#Bag of words de lemas para rating de 4 estrellas\n",
    "counterLemm40 = Counter(tokensLemm40)\n",
    "counterLemm40.most_common()"
   ]
  },
  {
   "cell_type": "code",
   "execution_count": null,
   "metadata": {},
   "outputs": [],
   "source": [
    "#Bag of words de lemas para rating de 5 estrellas\n",
    "counterLemm50 = Counter(tokensLemm50)\n",
    "counterLemm50.most_common()"
   ]
  },
  {
   "cell_type": "code",
   "execution_count": null,
   "metadata": {},
   "outputs": [],
   "source": [
    "#Bag of words de temas para rating de 1 estrella\n",
    "counterStem10 = Counter(tokensStem10)\n",
    "counterStem10.most_common()"
   ]
  },
  {
   "cell_type": "code",
   "execution_count": null,
   "metadata": {},
   "outputs": [],
   "source": [
    "#Bag of words de temas para rating de 2 estrellas\n",
    "counterStem20 = Counter(tokensStem20)\n",
    "counterStem20.most_common()"
   ]
  },
  {
   "cell_type": "code",
   "execution_count": null,
   "metadata": {},
   "outputs": [],
   "source": [
    "#Bag of words de temas para rating de 3 estrellas\n",
    "counterStem30 = Counter(tokensStem30)\n",
    "counterStem30.most_common()"
   ]
  },
  {
   "cell_type": "code",
   "execution_count": null,
   "metadata": {},
   "outputs": [],
   "source": [
    "#Bag of words de temas para rating de 4 estrellas\n",
    "counterStem40 = Counter(tokensStem40)\n",
    "counterStem40.most_common()"
   ]
  },
  {
   "cell_type": "code",
   "execution_count": null,
   "metadata": {},
   "outputs": [],
   "source": [
    "#Bag of words de temas para rating de 5 estrellas\n",
    "counterStem50 = Counter(tokensStem50)\n",
    "counterStem50.most_common()"
   ]
  },
  {
   "cell_type": "markdown",
   "metadata": {},
   "source": [
    "A partir de este análisis exploratorio, se recomienda realizar lo siguiente:\n",
    "\n",
    "1. Extraer más datos de los reviews. Por ejemplo: la cantidad de votos útiles que tiene cada review, la cantidad de contribuciones que ha hecho el usuario, el lugar de origen de donde es la persona que realiza el review y la fecha que se realizó el review. Estos datos podrían ayudar a determinar el valor que aporta cada review y podrían categorizar más los datos de forma que puedan haber diferentes modelos dependiendo del continente, país, regiones, etc.\n",
    "<br><br>\n",
    "2. Determinar de alguna forma el idioma en el que se realizó cada review ya que cada uno de estos tiene su forma de hacer lematización y stemming."
   ]
  }
 ],
 "metadata": {
  "kernelspec": {
   "display_name": "Python 3",
   "language": "python",
   "name": "python3"
  },
  "language_info": {
   "codemirror_mode": {
    "name": "ipython",
    "version": 3
   },
   "file_extension": ".py",
   "mimetype": "text/x-python",
   "name": "python",
   "nbconvert_exporter": "python",
   "pygments_lexer": "ipython3",
   "version": "3.8.3"
  }
 },
 "nbformat": 4,
 "nbformat_minor": 4
}
